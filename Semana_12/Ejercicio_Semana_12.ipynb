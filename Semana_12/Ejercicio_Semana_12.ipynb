{
  "nbformat": 4,
  "nbformat_minor": 0,
  "metadata": {
    "colab": {
      "provenance": [],
      "gpuType": "T4"
    },
    "kernelspec": {
      "name": "python3",
      "display_name": "Python 3"
    },
    "language_info": {
      "name": "python"
    },
    "accelerator": "GPU"
  },
  "cells": [
    {
      "cell_type": "code",
      "execution_count": 1,
      "metadata": {
        "id": "dsdzKFi6I8j2"
      },
      "outputs": [],
      "source": [
        "import os\n",
        "import numpy as np\n",
        "import shutil\n",
        "from sklearn.model_selection import train_test_split\n",
        "from tensorflow.keras.preprocessing.image import ImageDataGenerator"
      ]
    },
    {
      "cell_type": "code",
      "source": [
        "# Directorio de datos\n",
        "base_dir = \"/content/drive/MyDrive/Semestre 9/Visión por Computador/Semana_12/Lemon_quality/Lemon_quality\"\n",
        "san_dir = os.path.join(base_dir, 'good_quality')\n",
        "enf_dir = os.path.join(base_dir, 'bad_quality')"
      ],
      "metadata": {
        "id": "qyQZuwvxNelz"
      },
      "execution_count": 2,
      "outputs": []
    },
    {
      "cell_type": "code",
      "source": [
        "# Listas de imágenes y etiquetas\n",
        "san_images = [os.path.join(san_dir, file) for file in os.listdir(san_dir)]\n",
        "enf_images = [os.path.join(enf_dir, file) for file in os.listdir(enf_dir)]\n",
        "san_labels = [0] * len(san_images)\n",
        "enf_labels = [1] * len(enf_images)"
      ],
      "metadata": {
        "id": "WYtAQSUCNijp"
      },
      "execution_count": 3,
      "outputs": []
    },
    {
      "cell_type": "code",
      "source": [
        "# Combinación de imágenes y etiquetas\n",
        "all_images = np.array(san_images + enf_images)\n",
        "all_labels = np.array(san_labels + enf_labels)"
      ],
      "metadata": {
        "id": "emkS0Y_eNjPH"
      },
      "execution_count": 4,
      "outputs": []
    },
    {
      "cell_type": "code",
      "source": [
        "# División en conjuntos de entrenamiento, validación y prueba (70%-15%-15%)\n",
        "X_train, X_temp, y_train, y_temp = train_test_split(all_images, all_labels, test_size=0.3, stratify=all_labels)\n",
        "X_val, X_test, y_val, y_test = train_test_split(X_temp, y_temp, test_size=0.5, stratify=y_temp)"
      ],
      "metadata": {
        "id": "f8G9s4AFNmfS"
      },
      "execution_count": 5,
      "outputs": []
    },
    {
      "cell_type": "code",
      "source": [
        "# Crear carpetas de destino para las imágenes divididas\n",
        "output_base = \"/content/drive/MyDrive/Visión por computador/images/\"\n",
        "os.makedirs(output_base, exist_ok=True)\n",
        "for subset in ['train', 'val', 'test']:\n",
        "    os.makedirs(os.path.join(output_base, subset, 'naranjas_sanas'), exist_ok=True)\n",
        "    os.makedirs(os.path.join(output_base, subset, 'naranjas_enfermas'), exist_ok=True)"
      ],
      "metadata": {
        "id": "t_srGuKqNr7r"
      },
      "execution_count": 6,
      "outputs": []
    },
    {
      "cell_type": "code",
      "source": [
        "# Función para transferir las imágenes a las carpetas específicas\n",
        "def transfer_images(img_list, labels, split_name):\n",
        "    for img, label in zip(img_list, labels):\n",
        "        target_folder = 'naranjas_sanas' if label == 0 else 'naranjas_enfermas'\n",
        "        shutil.copy(img, os.path.join(output_base, split_name, target_folder))"
      ],
      "metadata": {
        "id": "_8zNb7E4Nw7U"
      },
      "execution_count": 7,
      "outputs": []
    },
    {
      "cell_type": "code",
      "source": [
        "# Transferencia de imágenes a los conjuntos de datos\n",
        "transfer_images(X_train, y_train, 'train')\n",
        "transfer_images(X_val, y_val, 'val')\n",
        "transfer_images(X_test, y_test, 'test')"
      ],
      "metadata": {
        "id": "i-x_Q6e7N7xf"
      },
      "execution_count": null,
      "outputs": []
    },
    {
      "cell_type": "code",
      "source": [
        "# Configuración de generadores de imágenes\n",
        "datagen = ImageDataGenerator(rescale=1./255)\n",
        "\n",
        "train_gen = datagen.flow_from_directory(os.path.join(output_base, 'train'), target_size=(128, 128), batch_size=32, class_mode='binary')\n",
        "val_gen = datagen.flow_from_directory(os.path.join(output_base, 'val'), target_size=(128, 128), batch_size=32, class_mode='binary')\n",
        "test_gen = datagen.flow_from_directory(os.path.join(output_base, 'test'), target_size=(128, 128), batch_size=32, class_mode='binary')"
      ],
      "metadata": {
        "id": "Qkdj1RRlN-kW"
      },
      "execution_count": null,
      "outputs": []
    },
    {
      "cell_type": "code",
      "source": [
        "# Crear modelo CNN\n",
        "from tensorflow.keras.models import Sequential\n",
        "from tensorflow.keras.layers import Conv2D, MaxPooling2D, Flatten, Dense\n",
        "from tensorflow.keras.optimizers import Adam"
      ],
      "metadata": {
        "id": "JoKGVa__ODe_"
      },
      "execution_count": null,
      "outputs": []
    },
    {
      "cell_type": "code",
      "source": [
        "def build_model(learning_rate, filters):\n",
        "    model = Sequential()\n",
        "    model.add(Conv2D(filters, (3, 3), activation='relu', input_shape=(128, 128, 3)))\n",
        "    model.add(MaxPooling2D(pool_size=(2, 2)))\n",
        "    model.add(Conv2D(filters * 2, (3, 3), activation='relu'))\n",
        "    model.add(MaxPooling2D(pool_size=(2, 2)))\n",
        "    model.add(Flatten())\n",
        "    model.add(Dense(64, activation='relu'))\n",
        "    model.add(Dense(1, activation='sigmoid'))\n",
        "\n",
        "    model.compile(optimizer=Adam(learning_rate=learning_rate), loss='binary_crossentropy', metrics=['accuracy'])\n",
        "    return model"
      ],
      "metadata": {
        "id": "2y_XB1rIOLt4"
      },
      "execution_count": null,
      "outputs": []
    },
    {
      "cell_type": "code",
      "source": [
        "!pip install scikit-optimize"
      ],
      "metadata": {
        "id": "DIKUhbMTRfnO"
      },
      "execution_count": null,
      "outputs": []
    },
    {
      "cell_type": "code",
      "source": [
        "import skopt"
      ],
      "metadata": {
        "id": "sDsRfpLhRl_u"
      },
      "execution_count": null,
      "outputs": []
    },
    {
      "cell_type": "code",
      "source": [
        "# Optimización de hiperparámetros con Bayesian Optimization\n",
        "from skopt import gp_minimize\n",
        "from skopt.space import Real, Integer\n",
        "from skopt.utils import use_named_args\n",
        "\n",
        "# Rango de hiperparámetros\n",
        "dim_learning_rate = Real(1e-6, 1e-1, prior='log-uniform', name='learning_rate')\n",
        "dim_num_filters = Integer(16, 128, name='num_filters')\n",
        "dimensions = [dim_learning_rate, dim_num_filters]"
      ],
      "metadata": {
        "id": "4UkMfjR8OTYv"
      },
      "execution_count": null,
      "outputs": []
    },
    {
      "cell_type": "code",
      "source": [
        "@use_named_args(dimensions=dimensions)\n",
        "def optimize_hyperparams(learning_rate, num_filters):\n",
        "    temp_model = build_model(learning_rate=learning_rate, filters=num_filters)\n",
        "    history = temp_model.fit(train_gen, validation_data=val_gen, epochs=10, verbose=0)\n",
        "    val_accuracy = history.history['val_accuracy'][-1]\n",
        "    return -val_accuracy"
      ],
      "metadata": {
        "id": "zyBllqETOUbN"
      },
      "execution_count": null,
      "outputs": []
    },
    {
      "cell_type": "code",
      "source": [
        "# Realizar la optimización\n",
        "result = gp_minimize(optimize_hyperparams, dimensions=dimensions, n_calls=20, random_state=42)\n",
        "print(\"Mejores hiperparámetros encontrados:\", result.x)"
      ],
      "metadata": {
        "id": "1gUKYLG-OXpc"
      },
      "execution_count": null,
      "outputs": []
    },
    {
      "cell_type": "code",
      "source": [
        "# Crear y evaluar modelo con hiperparámetros optimizados\n",
        "best_lr, best_filters = result.x\n",
        "final_model = build_model(learning_rate=best_lr, filters=best_filters)\n",
        "history = final_model.fit(train_gen, validation_data=val_gen, epochs=50)"
      ],
      "metadata": {
        "id": "XSdq4FT4OaDG"
      },
      "execution_count": null,
      "outputs": []
    },
    {
      "cell_type": "code",
      "source": [
        "\n",
        "# Evaluación en conjunto de prueba\n",
        "test_loss, test_accuracy = final_model.evaluate(test_gen)\n",
        "print(f\"Prueba - Pérdida: {test_loss}, Precisión: {test_accuracy}\")"
      ],
      "metadata": {
        "id": "i5ZHq5T_Oce7"
      },
      "execution_count": null,
      "outputs": []
    },
    {
      "cell_type": "code",
      "source": [
        "# Métricas adicionales\n",
        "from sklearn.metrics import accuracy_score, precision_score, recall_score, confusion_matrix\n",
        "\n",
        "predictions = final_model.predict(test_gen) > 0.5\n",
        "accuracy = accuracy_score(y_test, predictions)\n",
        "precision = precision_score(y_test, predictions)\n",
        "recall = recall_score(y_test, predictions)\n",
        "conf_matrix = confusion_matrix(y_test, predictions)\n",
        "\n",
        "print(f\"Precisión: {accuracy}\")\n",
        "print(f\"Exactitud: {precision}\")\n",
        "print(f\"Sensibilidad: {recall}\")\n",
        "print(f\"Matriz de Confusión:\\n{conf_matrix}\")"
      ],
      "metadata": {
        "id": "ifJLaQeAOehG"
      },
      "execution_count": null,
      "outputs": []
    },
    {
      "cell_type": "code",
      "source": [
        "# Visualización de la matriz de confusión\n",
        "import matplotlib.pyplot as plt\n",
        "import seaborn as sns\n",
        "\n",
        "plt.figure(figsize=(8, 6))\n",
        "sns.heatmap(conf_matrix, annot=True, fmt='d', cmap='Blues', cbar=False)\n",
        "plt.xlabel('Predicción')\n",
        "plt.ylabel('Valor Real')\n",
        "plt.title('Matriz de Confusión')\n",
        "plt.show()"
      ],
      "metadata": {
        "id": "ujs95uOrOiL5"
      },
      "execution_count": null,
      "outputs": []
    }
  ]
}